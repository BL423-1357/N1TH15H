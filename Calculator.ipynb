{
  "nbformat": 4,
  "nbformat_minor": 5,
  "metadata": {
    "kernelspec": {
      "display_name": "Python 3",
      "language": "python",
      "name": "python3"
    },
    "language_info": {
      "codemirror_mode": {
        "name": "ipython",
        "version": 3
      },
      "file_extension": ".py",
      "mimetype": "text/x-python",
      "name": "python",
      "nbconvert_exporter": "python",
      "pygments_lexer": "ipython3",
      "version": "3.8.8"
    },
    "colab": {
      "name": "Calculator.ipynb",
      "provenance": [],
      "include_colab_link": true
    }
  },
  "cells": [
    {
      "cell_type": "markdown",
      "metadata": {
        "id": "view-in-github",
        "colab_type": "text"
      },
      "source": [
        "<a href=\"https://colab.research.google.com/github/BL423-1357/N1TH15H/blob/master/Calculator.ipynb\" target=\"_parent\"><img src=\"https://colab.research.google.com/assets/colab-badge.svg\" alt=\"Open In Colab\"/></a>"
      ]
    },
    {
      "cell_type": "code",
      "metadata": {
        "colab": {
          "base_uri": "https://localhost:8080/"
        },
        "id": "213c5dc2",
        "outputId": "b8e44f93-0ca1-4e1a-982d-5353c4b9aaac"
      },
      "source": [
        "a = input(' 1 for adding \\n 2 for subtracting \\n 3 for multiplying \\n 4 for division \\n')\n",
        "firstValue = int(input('enter first value '))\n",
        "secondValue = int(input('enter second value '))\n",
        "def multiply ():\n",
        "    product = str(firstValue * secondValue)\n",
        "    input('product is ' + product)\n",
        "    \n",
        "def add ():\n",
        "    Sum = str(firstValue + secondValue)\n",
        "    input('sum is ' + Sum)\n",
        "    \n",
        "def difference ():\n",
        "    difference = str(firstValue - secondValue)\n",
        "    input('difference is ' + difference)\n",
        "    \n",
        "def division ():\n",
        "    quotient = str(firstValue / secondValue)\n",
        "    input('quotient is ' + quotient)\n",
        "    \n",
        "Input = int(a)\n",
        "if(Input == 1):\n",
        "    add ()\n",
        "    \n",
        "elif(Input == 2):\n",
        "    difference()\n",
        "    \n",
        "elif(Input == 3):\n",
        "    multiply ()\n",
        "    \n",
        "elif(Input == 4):\n",
        "    division ()\n",
        "    \n",
        "else :\n",
        "    input('enter proper value')\n",
        "    "
      ],
      "id": "213c5dc2",
      "execution_count": 1,
      "outputs": [
        {
          "name": "stdout",
          "output_type": "stream",
          "text": [
            " 1 for adding \n",
            " 2 for subtracting \n",
            " 3 for multiplying \n",
            " 4 for division \n",
            "4\n",
            "enter first value 222\n",
            "enter second value 112\n",
            "quotient is 1.9821428571428572\n"
          ]
        }
      ]
    },
    {
      "cell_type": "code",
      "metadata": {
        "id": "68764ded"
      },
      "source": [
        ""
      ],
      "id": "68764ded",
      "execution_count": null,
      "outputs": []
    }
  ]
}